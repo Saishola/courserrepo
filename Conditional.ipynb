{
 "cells": [
  {
   "cell_type": "code",
   "execution_count": 6,
   "id": "00d99aa8",
   "metadata": {},
   "outputs": [
    {
     "name": "stdout",
     "output_type": "stream",
     "text": [
      "game on\n",
      "game on\n",
      "game over\n"
     ]
    }
   ],
   "source": [
    "fifa = {'brazil':'win', 'argentina':'win', 'croatia':'lose'}\n",
    "\n",
    "for i in fifa.values():\n",
    "    if i == 'win':\n",
    "        print('game on')\n",
    "    else:\n",
    "        print('game over')"
   ]
  },
  {
   "cell_type": "code",
   "execution_count": 4,
   "id": "91b52d2c",
   "metadata": {},
   "outputs": [
    {
     "data": {
      "text/plain": [
       "dict_values(['win', 'win', 'lose'])"
      ]
     },
     "execution_count": 4,
     "metadata": {},
     "output_type": "execute_result"
    }
   ],
   "source": [
    "fifa.values()"
   ]
  },
  {
   "cell_type": "code",
   "execution_count": null,
   "id": "facaf675",
   "metadata": {},
   "outputs": [],
   "source": []
  }
 ],
 "metadata": {
  "kernelspec": {
   "display_name": "Python 3 (ipykernel)",
   "language": "python",
   "name": "python3"
  },
  "language_info": {
   "codemirror_mode": {
    "name": "ipython",
    "version": 3
   },
   "file_extension": ".py",
   "mimetype": "text/x-python",
   "name": "python",
   "nbconvert_exporter": "python",
   "pygments_lexer": "ipython3",
   "version": "3.7.7"
  }
 },
 "nbformat": 4,
 "nbformat_minor": 5
}
